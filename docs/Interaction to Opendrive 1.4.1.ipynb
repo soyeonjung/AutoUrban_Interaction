{
 "cells": [
  {
   "cell_type": "code",
   "execution_count": 42,
   "metadata": {},
   "outputs": [
    {
     "name": "stderr",
     "output_type": "stream",
     "text": [
      "┌ Info: Precompiling EzXML [8f5d6c58-4d21-5cfd-889c-e3ad7ee6a615]\n",
      "└ @ Base loading.jl:1260\n"
     ]
    }
   ],
   "source": [
    "using AutomotiveSimulator\n",
    "using AutomotiveVisualization\n",
    "using EzXML"
   ]
  },
  {
   "cell_type": "code",
   "execution_count": 34,
   "metadata": {},
   "outputs": [
    {
     "data": {
      "text/plain": [
       "convert_roadway! (generic function with 1 method)"
      ]
     },
     "execution_count": 34,
     "metadata": {},
     "output_type": "execute_result"
    }
   ],
   "source": [
    "# using AutoUrban\n",
    "include(\"../src/roadway/roadway_generation.jl\")\n",
    "include(\"../src/roadway/roadway_perception.jl\")\n",
    "include(\"../src/roadway/roadway_intersection.jl\")\n",
    "include(\"../src/roadway/convert2xodr.jl\")"
   ]
  },
  {
   "cell_type": "code",
   "execution_count": 35,
   "metadata": {},
   "outputs": [],
   "source": [
    "using LinearAlgebra\n",
    "using DelimitedFiles"
   ]
  },
  {
   "cell_type": "markdown",
   "metadata": {},
   "source": [
    "## Build Roadway"
   ]
  },
  {
   "cell_type": "code",
   "execution_count": 36,
   "metadata": {},
   "outputs": [
    {
     "data": {
      "text/plain": [
       "centerlines_txt2tracks (generic function with 1 method)"
      ]
     },
     "execution_count": 36,
     "metadata": {},
     "output_type": "execute_result"
    }
   ],
   "source": [
    "function append_to_curve!(target::Curve, newstuff::Curve)\n",
    "    s_end = target[end].s\n",
    "    for c in newstuff\n",
    "        push!(target, CurvePt(c.pos, c.s+s_end, c.k, c.kd))\n",
    "    end\n",
    "    return target\n",
    "end\n",
    "\n",
    "\n",
    "function get_new_angle(tangent_vector::Array{Float64})\n",
    "    # it might be a problem when we switch quadrants\n",
    "    # use signs of tangent vector to get the quadrant of the heading\n",
    "    x = tangent_vector[1]\n",
    "    y = tangent_vector[2]\n",
    "    if x == 0. && y == 0.\n",
    "        heading = 0.0\n",
    "    elseif x == 0.\n",
    "        heading = π/2 * sign(y)\n",
    "    elseif y == 0.\n",
    "        heading = convert(Float64, π) # this could be either pi or -pi, but just go with pi\n",
    "    elseif sign(x) == 1 && sign(y) == 1 # first quadrant\n",
    "        heading = atan(y, x)\n",
    "    elseif sign(x) == -1 && sign(y) == 1 # second quadrant\n",
    "        heading = atan(y, x)\n",
    "    elseif sign(x) == 1 && sign(y) == -1 # fourth quadrant\n",
    "        heading = atan(y, x)\n",
    "    elseif sign(x) == -1 && sign(y) == -1 # third quadrant\n",
    "        heading = atan(y, x)\n",
    "    end\n",
    "    # bound_heading doesn't end up getting called cause Julia takes care of it apparently\n",
    "    bound_heading(heading)\n",
    "\n",
    "    return heading\n",
    "end\n",
    "\n",
    "\n",
    "function bound_heading(heading::Float64)\n",
    "    if heading > π # send this to be just near -pi\n",
    "        heading = -π + (heading - π)    # if heading is 3.15, then the new angle will be (-pi + (3.15-pi)) = -3.13\n",
    "    elseif heading < -π # send this to be just near pi\n",
    "        heading = π + (heading + π)     # if heading is -3.15, then the new angle will be (pi + (-3.15+pi)) = 3.13\n",
    "    end\n",
    "    return heading\n",
    "end\n",
    "\n",
    "\n",
    "function append_headings(coordinates::Matrix{Float64})\n",
    "    headings = ones(size(coordinates)[1])\n",
    "    for i = 1:size(coordinates)[1]-1\n",
    "        # need to make sure that math is right, and that bounds are kept\n",
    "        tangent_vector = [coordinates[i+1,1]-coordinates[i,1], coordinates[i+1,2]-coordinates[i,2]]\n",
    "        # @show tangent_vector\n",
    "        current_heading = get_new_angle(tangent_vector)\n",
    "        # @show current_heading\n",
    "        headings[i] = current_heading\n",
    "    end\n",
    "    headings[end] = headings[end-1] # assume this is fine\n",
    "    coordinates = hcat(coordinates, headings)\n",
    "    return coordinates\n",
    "end\n",
    "\n",
    "\n",
    "function centerlines_txt2tracks(filename)\n",
    "    coods = readdlm(filename,',')\n",
    "    coods_app = append_headings(coods) # Append with the angle\n",
    "\n",
    "    mid_coods = coods_app'\n",
    "\n",
    "    first_cood = VecSE2(mid_coods[1,1], mid_coods[2,1], mid_coods[3,1])\n",
    "    second_cood = VecSE2(mid_coods[1,2], mid_coods[2,2], mid_coods[3,2])\n",
    "    radius = 0.01\n",
    "    nsamples = 20\n",
    "\n",
    "    track = gen_bezier_curve(first_cood, second_cood, radius, radius, nsamples)\n",
    "\n",
    "    nsamples = 20\n",
    "    for i = 3:size(coods,1)\n",
    "        turn1 = VecSE2(mid_coods[1, i-1], mid_coods[2, i-1], mid_coods[3, i-1])\n",
    "        turn2 = VecSE2(mid_coods[1, i], mid_coods[2, i], mid_coods[3, i])\n",
    "        curve = gen_bezier_curve(turn1, turn2, radius, radius, nsamples)\n",
    "        append_to_curve!(track, curve)\n",
    "    end\n",
    "\n",
    "    return track\n",
    "end"
   ]
  },
  {
   "cell_type": "code",
   "execution_count": 90,
   "metadata": {},
   "outputs": [
    {
     "data": {
      "text/plain": [
       "make_roadway_interaction (generic function with 1 method)"
      ]
     },
     "execution_count": 90,
     "metadata": {},
     "output_type": "execute_result"
    }
   ],
   "source": [
    "function make_roadway_interaction()\n",
    "    road = Roadway()\n",
    "        # Make segment 1: the on ramp a and first part of lane: b1\n",
    "    track_a = centerlines_txt2tracks(joinpath(@__DIR__,\"../dataset/centerlines_a.txt\")); # Top most on ramp\n",
    "    lane_a = Lane(LaneTag(1,1),track_a,boundary_left=LaneBoundary(:broken,:white))\n",
    "\n",
    "    track_b1 = centerlines_txt2tracks(joinpath(@__DIR__,\"../dataset/centerlines_b1.txt\")); # Top most on ramp\n",
    "    lane_b1 = Lane(LaneTag(1,2),track_b1)\n",
    "\n",
    "        # Make segment 2: second part of lane: b2. And connect both lanes of segment 1 into segment 2\n",
    "    track_b2 = centerlines_txt2tracks(joinpath(@__DIR__,\"../dataset/centerlines_b2.txt\"))\n",
    "    lane_b2 = Lane(LaneTag(2,1),track_b2)\n",
    "    connect!(lane_a,lane_b2)\n",
    "    connect!(lane_b1,lane_b2)\n",
    "\n",
    "    push!(road.segments,RoadSegment(1,[lane_a]))\n",
    "    push!(road.segments,RoadSegment(2,[lane_b2]))\n",
    "\n",
    "        # Make segment 3: c and d\n",
    "    track_c = centerlines_txt2tracks(joinpath(@__DIR__,\"../dataset/centerlines_c.txt\"))\n",
    "    lane_c = Lane(LaneTag(3,1),track_c,boundary_left=LaneBoundary(:broken,:white))\n",
    "\n",
    "    track_d = centerlines_txt2tracks(joinpath(@__DIR__,\"../dataset/centerlines_d.txt\"))\n",
    "    lane_d = Lane(LaneTag(3,2),track_d)\n",
    "\n",
    "    push!(road.segments,RoadSegment(3,[lane_c,lane_d]))\n",
    "\n",
    "            # Other side of the divider\n",
    "        # Make segment 4: g,f1,e1\n",
    "    track_g = centerlines_txt2tracks(joinpath(@__DIR__,\"../dataset/centerlines_g.txt\"))\n",
    "    lane_g = Lane(LaneTag(4,1),track_g,boundary_left=LaneBoundary(:broken,:white))\n",
    "\n",
    "    track_f1 = centerlines_txt2tracks(joinpath(@__DIR__,\"../dataset/centerlines_f1.txt\"))\n",
    "    lane_f1 = Lane(LaneTag(4,2),track_f1,boundary_left=LaneBoundary(:broken,:white))\n",
    "\n",
    "    track_e1 = centerlines_txt2tracks(joinpath(@__DIR__,\"../dataset/centerlines_e1.txt\"))\n",
    "    lane_e1 = Lane(LaneTag(4,3),track_e1)\n",
    "\n",
    "        # Make segment 5: f2,e2. And connect 3 lanes of segment 4 into segment 5 two lanes\n",
    "    track_f2 = centerlines_txt2tracks(joinpath(@__DIR__,\"../dataset/centerlines_f2.txt\"))\n",
    "    lane_f2 = Lane(LaneTag(5,1),track_f2,boundary_left=LaneBoundary(:broken,:white))\n",
    "\n",
    "    track_e2 = centerlines_txt2tracks(joinpath(@__DIR__,\"../dataset/centerlines_e2.txt\"))\n",
    "    lane_e2 = Lane(LaneTag(5,2),track_e2)\n",
    "    connect!(lane_e1,lane_e2)\n",
    "    connect!(lane_f1,lane_f2)\n",
    "    connect!(lane_g,lane_f2)\n",
    "\n",
    "    push!(road.segments,RoadSegment(4,[lane_g,lane_f1,lane_e1]))\n",
    "    push!(road.segments,RoadSegment(5,[lane_f2,lane_e2]))\n",
    "\n",
    "    return road\n",
    "end"
   ]
  },
  {
   "cell_type": "code",
   "execution_count": 91,
   "metadata": {},
   "outputs": [
    {
     "data": {
      "image/png": "[encoded data removed]",
      "text/plain": [
       "Cairo.CairoSurfaceIOStream{UInt32}(Ptr{Nothing} @0x00007fb92b000000, 1000.0, 600.0, IOBuffer(data=UInt8[...], readable=true, writable=true, seekable=true, append=false, size=0, maxsize=Inf, ptr=1, mark=-1))"
      ]
     },
     "execution_count": 91,
     "metadata": {},
     "output_type": "execute_result"
    }
   ],
   "source": [
    "road = make_roadway_interaction()\n",
    "render([road])"
   ]
  },
  {
   "cell_type": "code",
   "execution_count": 93,
   "metadata": {},
   "outputs": [
    {
     "name": "stdout",
     "output_type": "stream",
     "text": [
      "<?xml version=\"1.0\" encoding=\"UTF-8\"?>\n",
      "<OpenDRIVE>\n",
      "  <header revMajor=\"1\" revMinor=\"4\" name=\"\" version=\"1.00\" data=\"Tue Mar 21 15:00:43 2017\" north=\"0\" south=\"0\" east=\"0\" west=\"0\"></header>\n",
      "  <road name=\"\" id=\"1\" length=\"83.01973989265717\" junction=\"-1\">\n",
      "    <type s=\"0\" type=\"rural\"/>\n",
      "    <link><successor elementType=\"road\" elementId=\"2\" contactPoint=\"start\"/></link>\n",
      "    <planView>\n",
      "      <geometry s=\"0.0\" x=\"1146.2697439050535\" y=\"973.136231976754\" hdg=\"3.343587454215944\" length=\"83.01973989265717\">\n",
      "        <arc curvature=\"1.82184514383744e-7\"/>\n",
      "      </geometry>\n",
      "    </planView>\n",
      "    <lanes>\n",
      "      <laneOffset s=\"0.0\" a=\"1.5\" b=\"0\" c=\"0\" d=\"0\"/>\n",
      "      <laneSection s=\"0\">\n",
      "        <left/>\n",
      "        <center>\n",
      "          <lane id=\"0\" type=\"driving\" level=\"false\"><roadMark sOffset=\"0.0\" type=\"solid\" weight=\"standard\" color=\"standard\" width=\"0.5\" laneChange=\"both\"/></lane>\n",
      "        </center>\n",
      "        <right>\n",
      "          <lane id=\"-1\" type=\"driving\" level=\"false\">\n",
      "            <width sOffset=\"0\" a=\"3.0\" b=\"0.0\" c=\"0.0\" d=\"0.0\"/>\n",
      "            <roadMark sOffset=\"0.0\" type=\"broken\" weight=\"standard\" color=\"standard\" width=\"0.5\" laneChange=\"both\"/>\n",
      "            <link><successor id=\"-1\"/></link>\n",
      "          </lane>\n",
      "        </right>\n",
      "      </laneSection>\n",
      "    </lanes>\n",
      "  </road>\n",
      "  <road name=\"\" id=\"2\" length=\"62.40879659284909\" junction=\"-1\">\n",
      "    <type s=\"0\" type=\"rural\"/>\n",
      "    <link><predecessor elementType=\"road\" elementId=\"1\" contactPoint=\"end\"/></link>\n",
      "    <planView>\n",
      "      <geometry s=\"0.0\" x=\"1060.4285122851168\" y=\"959.4246001512761\" hdg=\"3.0613184389354005\" length=\"62.40879659284909\">\n",
      "        <arc curvature=\"0.5947890333436938\"/>\n",
      "      </geometry>\n",
      "    </planView>\n",
      "    <lanes>\n",
      "      <laneOffset s=\"0.0\" a=\"1.5\" b=\"0\" c=\"0\" d=\"0\"/>\n",
      "      <laneSection s=\"0\">\n",
      "        <left/>\n",
      "        <center>\n",
      "          <lane id=\"0\" type=\"driving\" level=\"false\"><roadMark sOffset=\"0.0\" type=\"solid\" weight=\"standard\" color=\"standard\" width=\"0.5\" laneChange=\"both\"/></lane>\n",
      "        </center>\n",
      "        <right>\n",
      "          <lane id=\"-1\" type=\"driving\" level=\"false\">\n",
      "            <width sOffset=\"0\" a=\"3.0\" b=\"0.0\" c=\"0.0\" d=\"0.0\"/>\n",
      "            <roadMark sOffset=\"0.0\" type=\"broken\" weight=\"standard\" color=\"standard\" width=\"0.5\" laneChange=\"both\"/>\n",
      "            <link><predecessor id=\"0\"/></link>\n",
      "          </lane>\n",
      "        </right>\n",
      "      </laneSection>\n",
      "    </lanes>\n",
      "  </road>\n",
      "  <road name=\"\" id=\"3\" length=\"149.44795771171832\" junction=\"-1\">\n",
      "    <type s=\"0\" type=\"rural\"/>\n",
      "    <link></link>\n",
      "    <planView>\n",
      "      <geometry s=\"0.0\" x=\"1146.258480496792\" y=\"963.2458478947142\" hdg=\"3.3433750274093943\" length=\"149.44795771171832\">\n",
      "        <arc curvature=\"0.711411192066422\"/>\n",
      "      </geometry>\n",
      "    </planView>\n",
      "    <lanes>\n",
      "      <laneOffset s=\"0.0\" a=\"4.5\" b=\"0\" c=\"0\" d=\"0\"/>\n",
      "      <laneSection s=\"0\">\n",
      "        <left/>\n",
      "        <center>\n",
      "          <lane id=\"0\" type=\"driving\" level=\"false\"><roadMark sOffset=\"0.0\" type=\"solid\" weight=\"standard\" color=\"standard\" width=\"0.5\" laneChange=\"both\"/></lane>\n",
      "        </center>\n",
      "        <right>\n",
      "          <lane id=\"-2\" type=\"driving\" level=\"false\">\n",
      "            <width sOffset=\"0\" a=\"3.0\" b=\"0.0\" c=\"0.0\" d=\"0.0\"/>\n",
      "            <roadMark sOffset=\"0.0\" type=\"broken\" weight=\"standard\" color=\"standard\" width=\"0.5\" laneChange=\"both\"/>\n",
      "            <link></link>\n",
      "          </lane>\n",
      "          <lane id=\"-1\" type=\"driving\" level=\"false\">\n",
      "            <width sOffset=\"0\" a=\"3.0\" b=\"0.0\" c=\"0.0\" d=\"0.0\"/>\n",
      "            <roadMark sOffset=\"0.0\" type=\"broken\" weight=\"standard\" color=\"standard\" width=\"0.5\" laneChange=\"both\"/>\n",
      "            <link></link>\n",
      "          </lane>\n",
      "        </right>\n",
      "      </laneSection>\n",
      "    </lanes>\n",
      "  </road>\n",
      "  <road name=\"\" id=\"4\" length=\"118.9190123183854\" junction=\"-1\">\n",
      "    <type s=\"0\" type=\"rural\"/>\n",
      "    <link><successor elementType=\"road\" elementId=\"5\" contactPoint=\"start\"/></link>\n",
      "    <planView>\n",
      "      <geometry s=\"0.0\" x=\"994.0264765192405\" y=\"950.6240854740292\" hdg=\"5.981928277133497\" length=\"118.9190123183854\">\n",
      "        <arc curvature=\"2.8139013753301663e-8\"/>\n",
      "      </geometry>\n",
      "    </planView>\n",
      "    <lanes>\n",
      "      <laneOffset s=\"0.0\" a=\"7.5\" b=\"0\" c=\"0\" d=\"0\"/>\n",
      "      <laneSection s=\"0\">\n",
      "        <left/>\n",
      "        <center>\n",
      "          <lane id=\"0\" type=\"driving\" level=\"false\"><roadMark sOffset=\"0.0\" type=\"solid\" weight=\"standard\" color=\"standard\" width=\"0.5\" laneChange=\"both\"/></lane>\n",
      "        </center>\n",
      "        <right>\n",
      "          <lane id=\"-3\" type=\"driving\" level=\"false\">\n",
      "            <width sOffset=\"0\" a=\"3.0\" b=\"0.0\" c=\"0.0\" d=\"0.0\"/>\n",
      "            <roadMark sOffset=\"0.0\" type=\"broken\" weight=\"standard\" color=\"standard\" width=\"0.5\" laneChange=\"both\"/>\n",
      "            <link><successor id=\"-2\"/></link>\n",
      "          </lane>\n",
      "          <lane id=\"-2\" type=\"driving\" level=\"false\">\n",
      "            <width sOffset=\"0\" a=\"3.0\" b=\"0.0\" c=\"0.0\" d=\"0.0\"/>\n",
      "            <roadMark sOffset=\"0.0\" type=\"broken\" weight=\"standard\" color=\"standard\" width=\"0.5\" laneChange=\"both\"/>\n",
      "            <link><successor id=\"-2\"/></link>\n",
      "          </lane>\n",
      "          <lane id=\"-1\" type=\"driving\" level=\"false\">\n",
      "            <width sOffset=\"0\" a=\"3.0\" b=\"0.0\" c=\"0.0\" d=\"0.0\"/>\n",
      "            <roadMark sOffset=\"0.0\" type=\"broken\" weight=\"standard\" color=\"standard\" width=\"0.5\" laneChange=\"both\"/>\n",
      "            <link><successor id=\"-1\"/></link>\n",
      "          </lane>\n",
      "        </right>\n",
      "      </laneSection>\n",
      "    </lanes>\n",
      "  </road>\n",
      "  <road name=\"\" id=\"5\" length=\"33.40904032196342\" junction=\"-1\">\n",
      "    <type s=\"0\" type=\"rural\"/>\n",
      "    <link><predecessor elementType=\"road\" elementId=\"4\" contactPoint=\"end\"/></link>\n",
      "    <planView>\n",
      "      <geometry s=\"0.0\" x=\"1114.9459357118521\" y=\"945.2064674460318\" hdg=\"0.14677733961684342\" length=\"33.40904032196342\">\n",
      "        <arc curvature=\"0.2163834149332564\"/>\n",
      "      </geometry>\n",
      "    </planView>\n",
      "    <lanes>\n",
      "      <laneOffset s=\"0.0\" a=\"4.5\" b=\"0\" c=\"0\" d=\"0\"/>\n",
      "      <laneSection s=\"0\">\n",
      "        <left/>\n",
      "        <center>\n",
      "          <lane id=\"0\" type=\"driving\" level=\"false\"><roadMark sOffset=\"0.0\" type=\"solid\" weight=\"standard\" color=\"standard\" width=\"0.5\" laneChange=\"both\"/></lane>\n",
      "        </center>\n",
      "        <right>\n",
      "          <lane id=\"-2\" type=\"driving\" level=\"false\">\n",
      "            <width sOffset=\"0\" a=\"3.0\" b=\"0.0\" c=\"0.0\" d=\"0.0\"/>\n",
      "            <roadMark sOffset=\"0.0\" type=\"broken\" weight=\"standard\" color=\"standard\" width=\"0.5\" laneChange=\"both\"/>\n",
      "            <link><predecessor id=\"-3\"/></link>\n",
      "          </lane>\n",
      "          <lane id=\"-1\" type=\"driving\" level=\"false\">\n",
      "            <width sOffset=\"0\" a=\"3.0\" b=\"0.0\" c=\"0.0\" d=\"0.0\"/>\n",
      "            <roadMark sOffset=\"0.0\" type=\"broken\" weight=\"standard\" color=\"standard\" width=\"0.5\" laneChange=\"both\"/>\n",
      "            <link><predecessor id=\"-1\"/></link>\n",
      "          </lane>\n",
      "        </right>\n",
      "      </laneSection>\n",
      "    </lanes>\n",
      "  </road>\n",
      "</OpenDRIVE>\n"
     ]
    }
   ],
   "source": [
    "#Initialze\n",
    "doc,r = initialize_XML()\n",
    "#Convert roadway and ignoring any junctions\n",
    "convert_roadway!(r,road)\n",
    "prettyprint(doc)\n"
   ]
  },
  {
   "cell_type": "code",
   "execution_count": 94,
   "metadata": {
    "scrolled": true
   },
   "outputs": [
    {
     "data": {
      "text/plain": [
       "5470"
      ]
     },
     "execution_count": 94,
     "metadata": {},
     "output_type": "execute_result"
    }
   ],
   "source": [
    "write(\"interaction.xodr\",doc)\n"
   ]
  },
  {
   "cell_type": "code",
   "execution_count": null,
   "metadata": {},
   "outputs": [],
   "source": []
  },
  {
   "cell_type": "markdown",
   "metadata": {},
   "source": [
    "## Build Sections "
   ]
  },
  {
   "cell_type": "code",
   "execution_count": 95,
   "metadata": {},
   "outputs": [
    {
     "data": {
      "text/plain": [
       "make_roadway_interaction_partial (generic function with 1 method)"
      ]
     },
     "execution_count": 95,
     "metadata": {},
     "output_type": "execute_result"
    }
   ],
   "source": [
    "function make_roadway_interaction_partial()\n",
    "    road = Roadway()\n",
    "        # Make segment 1: the on ramp a and first part of lane: b1\n",
    "    track_a = centerlines_txt2tracks(joinpath(@__DIR__,\"../dataset/centerlines_a.txt\")); # Top most on ramp\n",
    "    lane_a = Lane(LaneTag(1,1),track_a,boundary_left=LaneBoundary(:broken,:white))\n",
    "\n",
    "    track_b1 = centerlines_txt2tracks(joinpath(@__DIR__,\"../dataset/centerlines_b1.txt\")); # Top most on ramp\n",
    "    lane_b1 = Lane(LaneTag(1,2),track_b1)\n",
    "\n",
    "        # Make segment 2: second part of lane: b2. And connect both lanes of segment 1 into segment 2\n",
    "    track_b2 = centerlines_txt2tracks(joinpath(@__DIR__,\"../dataset/centerlines_b2.txt\"))\n",
    "    lane_b2 = Lane(LaneTag(2,1),track_b2)\n",
    "#     connect!(lane_a,lane_b2)\n",
    "#     connect!(lane_b1,lane_b2)\n",
    "\n",
    "    push!(road.segments,RoadSegment(1,[lane_a]));  print(\"lane a\\n\");\n",
    "    push!(road.segments,RoadSegment(2,[lane_b2])); print(\"lane b2\\n\");\n",
    "    \n",
    "    return road\n",
    "end"
   ]
  },
  {
   "cell_type": "code",
   "execution_count": 96,
   "metadata": {},
   "outputs": [
    {
     "name": "stdout",
     "output_type": "stream",
     "text": [
      "lane a\n",
      "lane b2\n"
     ]
    },
    {
     "data": {
      "image/png": "[encoded data removed]",
      "text/plain": [
       "Cairo.CairoSurfaceIOStream{UInt32}(Ptr{Nothing} @0x00007fb92b0232d0, 1000.0, 600.0, IOBuffer(data=UInt8[...], readable=true, writable=true, seekable=true, append=false, size=0, maxsize=Inf, ptr=1, mark=-1))"
      ]
     },
     "execution_count": 96,
     "metadata": {},
     "output_type": "execute_result"
    }
   ],
   "source": [
    "road_partial = make_roadway_interaction_partial()\n",
    "render([road_partial])\n"
   ]
  },
  {
   "cell_type": "code",
   "execution_count": 97,
   "metadata": {},
   "outputs": [
    {
     "data": {
      "image/png": "[encoded data removed]",
      "text/plain": [
       "Cairo.CairoSurfaceIOStream{UInt32}(Ptr{Nothing} @0x00007fb92b0cad10, 1000.0, 600.0, IOBuffer(data=UInt8[...], readable=true, writable=true, seekable=true, append=false, size=0, maxsize=Inf, ptr=1, mark=-1))"
      ]
     },
     "execution_count": 97,
     "metadata": {},
     "output_type": "execute_result"
    }
   ],
   "source": [
    "junctions = [Junction([Connection(1,2)])]\n",
    "\n",
    "for junction in junctions\n",
    "    add_junction!(junction, road_partial)\n",
    "end\n",
    "render([road_partial])\n"
   ]
  },
  {
   "cell_type": "code",
   "execution_count": 98,
   "metadata": {},
   "outputs": [
    {
     "name": "stdout",
     "output_type": "stream",
     "text": [
      "<?xml version=\"1.0\" encoding=\"UTF-8\"?>\n",
      "<OpenDRIVE>\n",
      "  <header revMajor=\"1\" revMinor=\"4\" name=\"\" version=\"1.00\" data=\"Tue Mar 21 15:00:43 2017\" north=\"0\" south=\"0\" east=\"0\" west=\"0\"></header>\n",
      "  <road name=\"\" id=\"1\" length=\"83.01973989265717\" junction=\"-1\">\n",
      "    <type s=\"0\" type=\"rural\"/>\n",
      "    <link><successor elementType=\"junction\" elementId=\"1\"/></link>\n",
      "    <planView>\n",
      "      <geometry s=\"0.0\" x=\"1146.2697439050535\" y=\"973.136231976754\" hdg=\"3.343587454215944\" length=\"83.01973989265717\">\n",
      "        <arc curvature=\"1.82184514383744e-7\"/>\n",
      "      </geometry>\n",
      "    </planView>\n",
      "    <lanes>\n",
      "      <laneOffset s=\"0.0\" a=\"1.5\" b=\"0\" c=\"0\" d=\"0\"/>\n",
      "      <laneSection s=\"0\">\n",
      "        <left/>\n",
      "        <center>\n",
      "          <lane id=\"0\" type=\"driving\" level=\"false\"><roadMark sOffset=\"0.0\" type=\"solid\" weight=\"standard\" color=\"standard\" width=\"0.5\" laneChange=\"both\"/></lane>\n",
      "        </center>\n",
      "        <right>\n",
      "          <lane id=\"-1\" type=\"driving\" level=\"false\">\n",
      "            <width sOffset=\"0\" a=\"3.0\" b=\"0.0\" c=\"0.0\" d=\"0.0\"/>\n",
      "            <roadMark sOffset=\"0.0\" type=\"broken\" weight=\"standard\" color=\"standard\" width=\"0.5\" laneChange=\"both\"/>\n",
      "            <link></link>\n",
      "          </lane>\n",
      "        </right>\n",
      "      </laneSection>\n",
      "    </lanes>\n",
      "  </road>\n",
      "  <road name=\"\" id=\"2\" length=\"62.40879659284909\" junction=\"-1\">\n",
      "    <type s=\"0\" type=\"rural\"/>\n",
      "    <link><predecessor elementType=\"road\" elementId=\"4\" contactPoint=\"end\"/></link>\n",
      "    <planView>\n",
      "      <geometry s=\"0.0\" x=\"1060.4285122851168\" y=\"959.4246001512761\" hdg=\"3.0613184389354005\" length=\"62.40879659284909\">\n",
      "        <arc curvature=\"0.5947890333436938\"/>\n",
      "      </geometry>\n",
      "    </planView>\n",
      "    <lanes>\n",
      "      <laneOffset s=\"0.0\" a=\"1.5\" b=\"0\" c=\"0\" d=\"0\"/>\n",
      "      <laneSection s=\"0\">\n",
      "        <left/>\n",
      "        <center>\n",
      "          <lane id=\"0\" type=\"driving\" level=\"false\"><roadMark sOffset=\"0.0\" type=\"solid\" weight=\"standard\" color=\"standard\" width=\"0.5\" laneChange=\"both\"/></lane>\n",
      "        </center>\n",
      "        <right>\n",
      "          <lane id=\"-1\" type=\"driving\" level=\"false\">\n",
      "            <width sOffset=\"0\" a=\"3.0\" b=\"0.0\" c=\"0.0\" d=\"0.0\"/>\n",
      "            <roadMark sOffset=\"0.0\" type=\"broken\" weight=\"standard\" color=\"standard\" width=\"0.5\" laneChange=\"both\"/>\n",
      "            <link><predecessor id=\"-1\"/></link>\n",
      "          </lane>\n",
      "        </right>\n",
      "      </laneSection>\n",
      "    </lanes>\n",
      "  </road>\n",
      "  <road name=\"\" id=\"3\" length=\"0.3724668588590112\" junction=\"1\">\n",
      "    <type s=\"0\" type=\"rural\"/>\n",
      "    <link><predecessor elementType=\"road\" elementId=\"1\" contactPoint=\"end\"/><successor elementType=\"road\" elementId=\"4\" contactPoint=\"start\"/></link>\n",
      "    <planView>\n",
      "      <geometry s=\"0.0\" x=\"1064.5227080330433\" y=\"959.1559772454225\" hdg=\"3.3893666029193787\" length=\"0.3724668588590112\">\n",
      "        <arc curvature=\"-0.880744571447152\"/>\n",
      "      </geometry>\n",
      "    </planView>\n",
      "    <lanes>\n",
      "      <laneOffset s=\"0.0\" a=\"1.5\" b=\"0\" c=\"0\" d=\"0\"/>\n",
      "      <laneSection s=\"0\">\n",
      "        <left/>\n",
      "        <center>\n",
      "          <lane id=\"0\" type=\"driving\" level=\"false\"><roadMark sOffset=\"0.0\" type=\"solid\" weight=\"standard\" color=\"standard\" width=\"0.5\" laneChange=\"both\"/></lane>\n",
      "        </center>\n",
      "        <right>\n",
      "          <lane id=\"-1\" type=\"driving\" level=\"false\">\n",
      "            <width sOffset=\"0\" a=\"3.0\" b=\"0.0\" c=\"0.0\" d=\"0.0\"/>\n",
      "            <roadMark sOffset=\"0.0\" type=\"broken\" weight=\"standard\" color=\"standard\" width=\"0.5\" laneChange=\"both\"/>\n",
      "            <link><predecessor id=\"-1\"/><successor id=\"-1\"/></link>\n",
      "          </lane>\n",
      "        </right>\n",
      "      </laneSection>\n",
      "    </lanes>\n",
      "  </road>\n",
      "  <road name=\"\" id=\"4\" length=\"3.736729603193712\" junction=\"-1\">\n",
      "    <type s=\"0\" type=\"rural\"/>\n",
      "    <link><predecessor elementType=\"junction\" elementId=\"1\"/><successor elementType=\"road\" elementId=\"2\" contactPoint=\"start\"/></link>\n",
      "    <planView>\n",
      "      <geometry s=\"0.0\" x=\"1064.1532087036617\" y=\"959.1249591709974\" hdg=\"3.0613184389354005\" length=\"3.736729603193712\">\n",
      "        <line/>\n",
      "      </geometry>\n",
      "    </planView>\n",
      "    <lanes>\n",
      "      <laneOffset s=\"0.0\" a=\"1.5\" b=\"0\" c=\"0\" d=\"0\"/>\n",
      "      <laneSection s=\"0\">\n",
      "        <left/>\n",
      "        <center>\n",
      "          <lane id=\"0\" type=\"driving\" level=\"false\"><roadMark sOffset=\"0.0\" type=\"solid\" weight=\"standard\" color=\"standard\" width=\"0.5\" laneChange=\"both\"/></lane>\n",
      "        </center>\n",
      "        <right>\n",
      "          <lane id=\"-1\" type=\"driving\" level=\"false\">\n",
      "            <width sOffset=\"0\" a=\"3.0\" b=\"0.0\" c=\"0.0\" d=\"0.0\"/>\n",
      "            <roadMark sOffset=\"0.0\" type=\"broken\" weight=\"standard\" color=\"standard\" width=\"0.5\" laneChange=\"both\"/>\n",
      "            <link><successor id=\"-1\"/></link>\n",
      "          </lane>\n",
      "        </right>\n",
      "      </laneSection>\n",
      "    </lanes>\n",
      "  </road>\n",
      "  <junction name=\"\" id=\"1\">\n",
      "    <connection id=\"0\" incomingRoad=\"1\" connectingRoad=\"3\" contactPoint=\"start\">\n",
      "      <laneLink from=\"-1\" to=\"-1\"/>\n",
      "    </connection>\n",
      "  </junction>\n",
      "</OpenDRIVE>\n"
     ]
    }
   ],
   "source": [
    "#Initialze\n",
    "doc,r = initialize_XML()\n",
    "#Convert roadway and ignoring any junctions\n",
    "convert_roadway!(r,road_partial)\n",
    "#Handle junctions\n",
    "# junctions = [junction];\n",
    "handle_junctions(r,junctions,road_partial)\n",
    "prettyprint(doc)\n"
   ]
  },
  {
   "cell_type": "code",
   "execution_count": 99,
   "metadata": {
    "scrolled": true
   },
   "outputs": [
    {
     "data": {
      "text/plain": [
       "3959"
      ]
     },
     "execution_count": 99,
     "metadata": {},
     "output_type": "execute_result"
    }
   ],
   "source": [
    "write(\"interaction_ab2.xodr\",doc)\n"
   ]
  },
  {
   "cell_type": "code",
   "execution_count": null,
   "metadata": {},
   "outputs": [],
   "source": []
  }
 ],
 "metadata": {
  "kernelspec": {
   "display_name": "Julia 1.4.1",
   "language": "julia",
   "name": "julia-1.4"
  },
  "language_info": {
   "file_extension": ".jl",
   "mimetype": "application/julia",
   "name": "julia",
   "version": "1.4.1"
  }
 },
 "nbformat": 4,
 "nbformat_minor": 4
}
